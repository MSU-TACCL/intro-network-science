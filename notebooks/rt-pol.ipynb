{
 "cells": [
  {
   "cell_type": "markdown",
   "metadata": {},
   "source": [
    "# In-class activity: Exploring the `rt-pol` network\n",
    "In this activity, we will explore the structure of a network of political retweets from the article \"Political polarization on Twitter\" by Conover, Ratkiewicz, and Goncalves. The data is a three-column `.txt` edgelist, where each edge indicates that node $j$ retweeted node $i$. The third column indicates the timestamp of the retweet."
   ]
  },
  {
   "cell_type": "code",
   "execution_count": 2,
   "metadata": {},
   "outputs": [],
   "source": [
    "# First, let's import our needed packages\n",
    "import networkx as nx\n",
    "import pandas as pd\n",
    "import numpy as np\n",
    "import matplotlib.pyplot as plt\n"
   ]
  },
  {
   "cell_type": "code",
   "execution_count": 5,
   "metadata": {},
   "outputs": [],
   "source": [
    "# Now, let's ingest the data\n",
    "edgelist = pd.read_csv(\"../data/rt-pol.txt\", header=None)\n",
    "edgelist.columns=[\"source\", \"target\", \"timestamp\"]"
   ]
  },
  {
   "cell_type": "code",
   "execution_count": 6,
   "metadata": {},
   "outputs": [],
   "source": [
    "# And turn it into a graph\n",
    "G = nx.from_pandas_edgelist(edgelist, \"source\", \"target\", \"timestamp\")"
   ]
  },
  {
   "cell_type": "markdown",
   "metadata": {},
   "source": [
    "## Tasks\n",
    "Now, I'd like you to do the following:\n",
    "* Determine whether the graph is connected or disconnected\n",
    "* Determine the size of the largest connected component\n",
    "* Determine the average degree of the network\n",
    "* Determine the longest path\n",
    "* Visualize the largest connected component"
   ]
  },
  {
   "cell_type": "markdown",
   "metadata": {},
   "source": []
  }
 ],
 "metadata": {
  "kernelspec": {
   "display_name": "Python 3",
   "language": "python",
   "name": "python3"
  },
  "language_info": {
   "codemirror_mode": {
    "name": "ipython",
    "version": 3
   },
   "file_extension": ".py",
   "mimetype": "text/x-python",
   "name": "python",
   "nbconvert_exporter": "python",
   "pygments_lexer": "ipython3",
   "version": "3.10.13"
  }
 },
 "nbformat": 4,
 "nbformat_minor": 2
}
