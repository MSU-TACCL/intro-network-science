{
 "cells": [
  {
   "cell_type": "markdown",
   "metadata": {},
   "source": [
    "# In-class activity: Exploring the `rt-pol` network\n",
    "In this activity, we will explore the structure of a network of political retweets from the article \"Political polarization on Twitter\" by Conover, Ratkiewicz, and Goncalves. The data is a three-column `.txt` edgelist, where each edge indicates that node $j$ retweeted node $i$. The third column indicates the timestamp of the retweet."
   ]
  },
  {
   "cell_type": "code",
   "execution_count": 6,
   "metadata": {},
   "outputs": [],
   "source": [
    "# First, let's import our needed packages\n",
    "import networkx as nx\n",
    "import pandas as pd\n",
    "import numpy as np\n",
    "import matplotlib.pyplot as plt"
   ]
  },
  {
   "cell_type": "code",
   "execution_count": 7,
   "metadata": {},
   "outputs": [],
   "source": [
    "# Now, let's ingest the data\n",
    "edgelist = pd.read_csv(\"../data/rt-pol.txt\", header=None)\n",
    "edgelist.columns=[\"source\", \"target\", \"timestamp\"]"
   ]
  },
  {
   "cell_type": "code",
   "execution_count": 8,
   "metadata": {},
   "outputs": [
    {
     "data": {
      "text/html": [
       "<div>\n",
       "<style scoped>\n",
       "    .dataframe tbody tr th:only-of-type {\n",
       "        vertical-align: middle;\n",
       "    }\n",
       "\n",
       "    .dataframe tbody tr th {\n",
       "        vertical-align: top;\n",
       "    }\n",
       "\n",
       "    .dataframe thead th {\n",
       "        text-align: right;\n",
       "    }\n",
       "</style>\n",
       "<table border=\"1\" class=\"dataframe\">\n",
       "  <thead>\n",
       "    <tr style=\"text-align: right;\">\n",
       "      <th></th>\n",
       "      <th>source</th>\n",
       "      <th>target</th>\n",
       "      <th>timestamp</th>\n",
       "    </tr>\n",
       "  </thead>\n",
       "  <tbody>\n",
       "    <tr>\n",
       "      <th>0</th>\n",
       "      <td>12464</td>\n",
       "      <td>7349</td>\n",
       "      <td>1286901355</td>\n",
       "    </tr>\n",
       "    <tr>\n",
       "      <th>1</th>\n",
       "      <td>6820</td>\n",
       "      <td>12569</td>\n",
       "      <td>1287988962</td>\n",
       "    </tr>\n",
       "    <tr>\n",
       "      <th>2</th>\n",
       "      <td>4336</td>\n",
       "      <td>15967</td>\n",
       "      <td>1286535938</td>\n",
       "    </tr>\n",
       "    <tr>\n",
       "      <th>3</th>\n",
       "      <td>16397</td>\n",
       "      <td>5927</td>\n",
       "      <td>1285134188</td>\n",
       "    </tr>\n",
       "    <tr>\n",
       "      <th>4</th>\n",
       "      <td>8829</td>\n",
       "      <td>13851</td>\n",
       "      <td>1285493596</td>\n",
       "    </tr>\n",
       "    <tr>\n",
       "      <th>...</th>\n",
       "      <td>...</td>\n",
       "      <td>...</td>\n",
       "      <td>...</td>\n",
       "    </tr>\n",
       "    <tr>\n",
       "      <th>61152</th>\n",
       "      <td>13184</td>\n",
       "      <td>4383</td>\n",
       "      <td>1288048135</td>\n",
       "    </tr>\n",
       "    <tr>\n",
       "      <th>61153</th>\n",
       "      <td>14984</td>\n",
       "      <td>1888</td>\n",
       "      <td>1286764105</td>\n",
       "    </tr>\n",
       "    <tr>\n",
       "      <th>61154</th>\n",
       "      <td>946</td>\n",
       "      <td>9742</td>\n",
       "      <td>1287022819</td>\n",
       "    </tr>\n",
       "    <tr>\n",
       "      <th>61155</th>\n",
       "      <td>3081</td>\n",
       "      <td>12973</td>\n",
       "      <td>1287114249</td>\n",
       "    </tr>\n",
       "    <tr>\n",
       "      <th>61156</th>\n",
       "      <td>8615</td>\n",
       "      <td>14794</td>\n",
       "      <td>1284759935</td>\n",
       "    </tr>\n",
       "  </tbody>\n",
       "</table>\n",
       "<p>61157 rows × 3 columns</p>\n",
       "</div>"
      ],
      "text/plain": [
       "       source  target   timestamp\n",
       "0       12464    7349  1286901355\n",
       "1        6820   12569  1287988962\n",
       "2        4336   15967  1286535938\n",
       "3       16397    5927  1285134188\n",
       "4        8829   13851  1285493596\n",
       "...       ...     ...         ...\n",
       "61152   13184    4383  1288048135\n",
       "61153   14984    1888  1286764105\n",
       "61154     946    9742  1287022819\n",
       "61155    3081   12973  1287114249\n",
       "61156    8615   14794  1284759935\n",
       "\n",
       "[61157 rows x 3 columns]"
      ]
     },
     "execution_count": 8,
     "metadata": {},
     "output_type": "execute_result"
    }
   ],
   "source": [
    "edgelist"
   ]
  },
  {
   "cell_type": "code",
   "execution_count": 9,
   "metadata": {},
   "outputs": [],
   "source": [
    "# And turn it into a graph\n",
    "G = nx.from_pandas_edgelist(edgelist)"
   ]
  },
  {
   "cell_type": "markdown",
   "metadata": {},
   "source": [
    "## Tasks\n",
    "Now, I'd like you to do the following:\n",
    "* Determine the average degree of the network\n",
    "* Plot the degree distribution\n",
    "* Determine the longest path\n",
    "* Figure out which node has the highest degree\n",
    "* Figure out which node has the highest eigenvector centrality\n",
    "\n",
    "**Hint:** Take a look at the tutorial for the book [here](https://github.com/CambridgeUniversityPress/FirstCourseNetworkScience/blob/master/tutorials/Chapter%203%20Tutorial.ipynb)"
   ]
  },
  {
   "cell_type": "code",
   "execution_count": 12,
   "metadata": {},
   "outputs": [],
   "source": [
    "nx.write_gexf(G, \"rt_pol.gexf\")"
   ]
  },
  {
   "cell_type": "code",
   "execution_count": null,
   "metadata": {},
   "outputs": [],
   "source": []
  }
 ],
 "metadata": {
  "kernelspec": {
   "display_name": "Python 3 (ipykernel)",
   "language": "python",
   "name": "python3"
  },
  "language_info": {
   "codemirror_mode": {
    "name": "ipython",
    "version": 3
   },
   "file_extension": ".py",
   "mimetype": "text/x-python",
   "name": "python",
   "nbconvert_exporter": "python",
   "pygments_lexer": "ipython3",
   "version": "3.10.13"
  }
 },
 "nbformat": 4,
 "nbformat_minor": 4
}
